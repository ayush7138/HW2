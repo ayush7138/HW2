{
 "cells": [
  {
   "cell_type": "markdown",
   "id": "approved-psychology",
   "metadata": {
    "id": "approved-psychology"
   },
   "source": [
    "# Home Assignment No. 2 - part one\n",
    "\n",
    "To solve this task, you will write a lot of code to try several machine learning methods for classification and regression.\n",
    "* You are **HIGHLY RECOMMENDED** to read relevant documentation, e.g. for [python](https://docs.python.org/3/), [numpy](https://docs.scipy.org/doc/numpy/reference/), [matlpotlib](https://matplotlib.org/) and [sklearn](https://scikit-learn.org/stable/). Also remember that seminars, lecture slides, [Google](http://google.com) and [StackOverflow](https://stackoverflow.com/) are your close friends during this course (and, probably, whole life?).\n",
    "\n",
    "* If you want an easy life, you have to use **BUILT-IN METHODS** of `sklearn` library instead of writing tons of your own code. There exists a class/method for almost everything you can imagine (related to this homework).\n",
    "\n",
    "* You have to write **CODE** directly inside specified places marked by comments: **BEGIN/END Solution**. Do not create new cells.\n",
    "\n",
    "* In some problems you are asked to provide a short discussion of the results. For that find the specific place marked via **Your text answer: \\<write your answer\\>**.\n",
    "\n",
    "* For every separate problem or subproblem (if specified) you can get only 0 points or maximal points for this problem. There are **NO INTERMEDIATE scores**. So make sure that you did everything required in the task.\n",
    "\n",
    "* Your **SOLUTION** notebook **MUST BE REPRODUCIBLE**, i.e., if the reviewer decides to restart the notebook and run all cells, after all the computation he will obtain exactly the same solution (with all the corresponding plots) as in your uploaded notebook. For this purpose, we suggest fixing random `seed` or (better) define `random_state=` inside every algorithm that uses some pseudorandomness.\n",
    "\n",
    "* Your code must be clear to the reviewer. For this purpose, try to include necessary comments inside the code. But remember: **GOOD CODE MUST BE SELF-EXPLANATORY** without any additional comments.\n",
    "\n",
    "* Many `sklearn` algorithms support multithreading (Ensemble Methods, Cross-Validation, etc.). Check if the particular algorithm has `n_jobs` parameters and set it to `-1` to use all the cores.\n"
   ]
  },
  {
   "cell_type": "code",
   "execution_count": 1,
   "id": "cooperative-spokesman",
   "metadata": {
    "id": "cooperative-spokesman"
   },
   "outputs": [],
   "source": [
    "import numpy as np\n",
    "import sklearn\n",
    "from sklearn.model_selection import train_test_split\n",
    "import pandas as pd\n",
    "import matplotlib.pyplot as plt\n",
    "from sklearn.model_selection import cross_val_score\n",
    "%matplotlib inline\n"
   ]
  },
  {
   "cell_type": "code",
   "execution_count": 2,
   "id": "noted-bridal",
   "metadata": {
    "id": "noted-bridal"
   },
   "outputs": [],
   "source": [
    "import warnings\n",
    "warnings.filterwarnings(\"ignore\")"
   ]
  },
  {
   "cell_type": "markdown",
   "id": "guilty-contamination",
   "metadata": {
    "id": "guilty-contamination"
   },
   "source": [
    "## Task 1. Model and feature selection problem (3 points)\n",
    "\n",
    "Your goal in this task is to predict the price (```price_doc```) given some characteristics of a house. In order to do that, you will demonstrate your abilities in data preprocessing, finding feature importances, applying different ML models."
   ]
  },
  {
   "cell_type": "markdown",
   "id": "friendly-review",
   "metadata": {
    "id": "friendly-review"
   },
   "source": [
    "### Subproblem 1.1. Data preprocessing and feauture importances (1 point)\n",
    "\n",
    "The goal of this subproblem is to prepare the data for further usage. Complete all of the following subtasks:"
   ]
  },
  {
   "cell_type": "markdown",
   "id": "rational-reggae",
   "metadata": {
    "id": "rational-reggae"
   },
   "source": [
    "**1.1.1) load the dataset**"
   ]
  },
  {
   "cell_type": "code",
   "execution_count": 3,
   "id": "nutritional-phoenix",
   "metadata": {
    "id": "nutritional-phoenix"
   },
   "outputs": [],
   "source": [
    "### BEGIN Solution (do not delete this comment)\n",
    "\n",
    "data = pd.read_csv('data_fs.csv')\n",
    "\n",
    "### END Solution (do not delete this comment)"
   ]
  },
  {
   "cell_type": "code",
   "execution_count": 4,
   "id": "ae476c9a",
   "metadata": {},
   "outputs": [
    {
     "data": {
      "text/html": [
       "<div>\n",
       "<style scoped>\n",
       "    .dataframe tbody tr th:only-of-type {\n",
       "        vertical-align: middle;\n",
       "    }\n",
       "\n",
       "    .dataframe tbody tr th {\n",
       "        vertical-align: top;\n",
       "    }\n",
       "\n",
       "    .dataframe thead th {\n",
       "        text-align: right;\n",
       "    }\n",
       "</style>\n",
       "<table border=\"1\" class=\"dataframe\">\n",
       "  <thead>\n",
       "    <tr style=\"text-align: right;\">\n",
       "      <th></th>\n",
       "      <th>timestamp</th>\n",
       "      <th>full_sq</th>\n",
       "      <th>life_sq</th>\n",
       "      <th>floor</th>\n",
       "      <th>max_floor</th>\n",
       "      <th>material</th>\n",
       "      <th>build_year</th>\n",
       "      <th>num_room</th>\n",
       "      <th>kitch_sq</th>\n",
       "      <th>state</th>\n",
       "      <th>...</th>\n",
       "      <th>provision_retail_space_modern_sqm</th>\n",
       "      <th>turnover_catering_per_cap</th>\n",
       "      <th>theaters_viewers_per_1000_cap</th>\n",
       "      <th>seats_theather_rfmin_per_100000_cap</th>\n",
       "      <th>museum_visitis_per_100_cap</th>\n",
       "      <th>bandwidth_sports</th>\n",
       "      <th>population_reg_sports_share</th>\n",
       "      <th>students_reg_sports_share</th>\n",
       "      <th>apartment_build</th>\n",
       "      <th>apartment_fund_sqm</th>\n",
       "    </tr>\n",
       "  </thead>\n",
       "  <tbody>\n",
       "    <tr>\n",
       "      <th>0</th>\n",
       "      <td>2011-08-20</td>\n",
       "      <td>43</td>\n",
       "      <td>27.0</td>\n",
       "      <td>4.0</td>\n",
       "      <td>NaN</td>\n",
       "      <td>NaN</td>\n",
       "      <td>NaN</td>\n",
       "      <td>NaN</td>\n",
       "      <td>NaN</td>\n",
       "      <td>NaN</td>\n",
       "      <td>...</td>\n",
       "      <td>271.0</td>\n",
       "      <td>6943.0</td>\n",
       "      <td>565.0</td>\n",
       "      <td>0.45356</td>\n",
       "      <td>1240.0</td>\n",
       "      <td>269768.0</td>\n",
       "      <td>22.37</td>\n",
       "      <td>64.12</td>\n",
       "      <td>23587.0</td>\n",
       "      <td>230310.0</td>\n",
       "    </tr>\n",
       "    <tr>\n",
       "      <th>1</th>\n",
       "      <td>2011-08-23</td>\n",
       "      <td>34</td>\n",
       "      <td>19.0</td>\n",
       "      <td>3.0</td>\n",
       "      <td>NaN</td>\n",
       "      <td>NaN</td>\n",
       "      <td>NaN</td>\n",
       "      <td>NaN</td>\n",
       "      <td>NaN</td>\n",
       "      <td>NaN</td>\n",
       "      <td>...</td>\n",
       "      <td>271.0</td>\n",
       "      <td>6943.0</td>\n",
       "      <td>565.0</td>\n",
       "      <td>0.45356</td>\n",
       "      <td>1240.0</td>\n",
       "      <td>269768.0</td>\n",
       "      <td>22.37</td>\n",
       "      <td>64.12</td>\n",
       "      <td>23587.0</td>\n",
       "      <td>230310.0</td>\n",
       "    </tr>\n",
       "    <tr>\n",
       "      <th>2</th>\n",
       "      <td>2011-08-27</td>\n",
       "      <td>43</td>\n",
       "      <td>29.0</td>\n",
       "      <td>2.0</td>\n",
       "      <td>NaN</td>\n",
       "      <td>NaN</td>\n",
       "      <td>NaN</td>\n",
       "      <td>NaN</td>\n",
       "      <td>NaN</td>\n",
       "      <td>NaN</td>\n",
       "      <td>...</td>\n",
       "      <td>271.0</td>\n",
       "      <td>6943.0</td>\n",
       "      <td>565.0</td>\n",
       "      <td>0.45356</td>\n",
       "      <td>1240.0</td>\n",
       "      <td>269768.0</td>\n",
       "      <td>22.37</td>\n",
       "      <td>64.12</td>\n",
       "      <td>23587.0</td>\n",
       "      <td>230310.0</td>\n",
       "    </tr>\n",
       "    <tr>\n",
       "      <th>3</th>\n",
       "      <td>2011-09-01</td>\n",
       "      <td>89</td>\n",
       "      <td>50.0</td>\n",
       "      <td>9.0</td>\n",
       "      <td>NaN</td>\n",
       "      <td>NaN</td>\n",
       "      <td>NaN</td>\n",
       "      <td>NaN</td>\n",
       "      <td>NaN</td>\n",
       "      <td>NaN</td>\n",
       "      <td>...</td>\n",
       "      <td>271.0</td>\n",
       "      <td>6943.0</td>\n",
       "      <td>565.0</td>\n",
       "      <td>0.45356</td>\n",
       "      <td>1240.0</td>\n",
       "      <td>269768.0</td>\n",
       "      <td>22.37</td>\n",
       "      <td>64.12</td>\n",
       "      <td>23587.0</td>\n",
       "      <td>230310.0</td>\n",
       "    </tr>\n",
       "    <tr>\n",
       "      <th>4</th>\n",
       "      <td>2011-09-05</td>\n",
       "      <td>77</td>\n",
       "      <td>77.0</td>\n",
       "      <td>4.0</td>\n",
       "      <td>NaN</td>\n",
       "      <td>NaN</td>\n",
       "      <td>NaN</td>\n",
       "      <td>NaN</td>\n",
       "      <td>NaN</td>\n",
       "      <td>NaN</td>\n",
       "      <td>...</td>\n",
       "      <td>271.0</td>\n",
       "      <td>6943.0</td>\n",
       "      <td>565.0</td>\n",
       "      <td>0.45356</td>\n",
       "      <td>1240.0</td>\n",
       "      <td>269768.0</td>\n",
       "      <td>22.37</td>\n",
       "      <td>64.12</td>\n",
       "      <td>23587.0</td>\n",
       "      <td>230310.0</td>\n",
       "    </tr>\n",
       "    <tr>\n",
       "      <th>5</th>\n",
       "      <td>2011-09-06</td>\n",
       "      <td>67</td>\n",
       "      <td>46.0</td>\n",
       "      <td>14.0</td>\n",
       "      <td>NaN</td>\n",
       "      <td>NaN</td>\n",
       "      <td>NaN</td>\n",
       "      <td>NaN</td>\n",
       "      <td>NaN</td>\n",
       "      <td>NaN</td>\n",
       "      <td>...</td>\n",
       "      <td>271.0</td>\n",
       "      <td>6943.0</td>\n",
       "      <td>565.0</td>\n",
       "      <td>0.45356</td>\n",
       "      <td>1240.0</td>\n",
       "      <td>269768.0</td>\n",
       "      <td>22.37</td>\n",
       "      <td>64.12</td>\n",
       "      <td>23587.0</td>\n",
       "      <td>230310.0</td>\n",
       "    </tr>\n",
       "    <tr>\n",
       "      <th>6</th>\n",
       "      <td>2011-09-08</td>\n",
       "      <td>25</td>\n",
       "      <td>14.0</td>\n",
       "      <td>10.0</td>\n",
       "      <td>NaN</td>\n",
       "      <td>NaN</td>\n",
       "      <td>NaN</td>\n",
       "      <td>NaN</td>\n",
       "      <td>NaN</td>\n",
       "      <td>NaN</td>\n",
       "      <td>...</td>\n",
       "      <td>271.0</td>\n",
       "      <td>6943.0</td>\n",
       "      <td>565.0</td>\n",
       "      <td>0.45356</td>\n",
       "      <td>1240.0</td>\n",
       "      <td>269768.0</td>\n",
       "      <td>22.37</td>\n",
       "      <td>64.12</td>\n",
       "      <td>23587.0</td>\n",
       "      <td>230310.0</td>\n",
       "    </tr>\n",
       "    <tr>\n",
       "      <th>7</th>\n",
       "      <td>2011-09-09</td>\n",
       "      <td>44</td>\n",
       "      <td>44.0</td>\n",
       "      <td>5.0</td>\n",
       "      <td>NaN</td>\n",
       "      <td>NaN</td>\n",
       "      <td>NaN</td>\n",
       "      <td>NaN</td>\n",
       "      <td>NaN</td>\n",
       "      <td>NaN</td>\n",
       "      <td>...</td>\n",
       "      <td>271.0</td>\n",
       "      <td>6943.0</td>\n",
       "      <td>565.0</td>\n",
       "      <td>0.45356</td>\n",
       "      <td>1240.0</td>\n",
       "      <td>269768.0</td>\n",
       "      <td>22.37</td>\n",
       "      <td>64.12</td>\n",
       "      <td>23587.0</td>\n",
       "      <td>230310.0</td>\n",
       "    </tr>\n",
       "    <tr>\n",
       "      <th>8</th>\n",
       "      <td>2011-09-10</td>\n",
       "      <td>42</td>\n",
       "      <td>27.0</td>\n",
       "      <td>5.0</td>\n",
       "      <td>NaN</td>\n",
       "      <td>NaN</td>\n",
       "      <td>NaN</td>\n",
       "      <td>NaN</td>\n",
       "      <td>NaN</td>\n",
       "      <td>NaN</td>\n",
       "      <td>...</td>\n",
       "      <td>271.0</td>\n",
       "      <td>6943.0</td>\n",
       "      <td>565.0</td>\n",
       "      <td>0.45356</td>\n",
       "      <td>1240.0</td>\n",
       "      <td>269768.0</td>\n",
       "      <td>22.37</td>\n",
       "      <td>64.12</td>\n",
       "      <td>23587.0</td>\n",
       "      <td>230310.0</td>\n",
       "    </tr>\n",
       "    <tr>\n",
       "      <th>9</th>\n",
       "      <td>2011-09-13</td>\n",
       "      <td>36</td>\n",
       "      <td>21.0</td>\n",
       "      <td>9.0</td>\n",
       "      <td>NaN</td>\n",
       "      <td>NaN</td>\n",
       "      <td>NaN</td>\n",
       "      <td>NaN</td>\n",
       "      <td>NaN</td>\n",
       "      <td>NaN</td>\n",
       "      <td>...</td>\n",
       "      <td>271.0</td>\n",
       "      <td>6943.0</td>\n",
       "      <td>565.0</td>\n",
       "      <td>0.45356</td>\n",
       "      <td>1240.0</td>\n",
       "      <td>269768.0</td>\n",
       "      <td>22.37</td>\n",
       "      <td>64.12</td>\n",
       "      <td>23587.0</td>\n",
       "      <td>230310.0</td>\n",
       "    </tr>\n",
       "  </tbody>\n",
       "</table>\n",
       "<p>10 rows × 390 columns</p>\n",
       "</div>"
      ],
      "text/plain": [
       "    timestamp  full_sq  life_sq  floor  max_floor  material  build_year  \\\n",
       "0  2011-08-20       43     27.0    4.0        NaN       NaN         NaN   \n",
       "1  2011-08-23       34     19.0    3.0        NaN       NaN         NaN   \n",
       "2  2011-08-27       43     29.0    2.0        NaN       NaN         NaN   \n",
       "3  2011-09-01       89     50.0    9.0        NaN       NaN         NaN   \n",
       "4  2011-09-05       77     77.0    4.0        NaN       NaN         NaN   \n",
       "5  2011-09-06       67     46.0   14.0        NaN       NaN         NaN   \n",
       "6  2011-09-08       25     14.0   10.0        NaN       NaN         NaN   \n",
       "7  2011-09-09       44     44.0    5.0        NaN       NaN         NaN   \n",
       "8  2011-09-10       42     27.0    5.0        NaN       NaN         NaN   \n",
       "9  2011-09-13       36     21.0    9.0        NaN       NaN         NaN   \n",
       "\n",
       "   num_room  kitch_sq  state  ... provision_retail_space_modern_sqm  \\\n",
       "0       NaN       NaN    NaN  ...                             271.0   \n",
       "1       NaN       NaN    NaN  ...                             271.0   \n",
       "2       NaN       NaN    NaN  ...                             271.0   \n",
       "3       NaN       NaN    NaN  ...                             271.0   \n",
       "4       NaN       NaN    NaN  ...                             271.0   \n",
       "5       NaN       NaN    NaN  ...                             271.0   \n",
       "6       NaN       NaN    NaN  ...                             271.0   \n",
       "7       NaN       NaN    NaN  ...                             271.0   \n",
       "8       NaN       NaN    NaN  ...                             271.0   \n",
       "9       NaN       NaN    NaN  ...                             271.0   \n",
       "\n",
       "  turnover_catering_per_cap  theaters_viewers_per_1000_cap  \\\n",
       "0                    6943.0                          565.0   \n",
       "1                    6943.0                          565.0   \n",
       "2                    6943.0                          565.0   \n",
       "3                    6943.0                          565.0   \n",
       "4                    6943.0                          565.0   \n",
       "5                    6943.0                          565.0   \n",
       "6                    6943.0                          565.0   \n",
       "7                    6943.0                          565.0   \n",
       "8                    6943.0                          565.0   \n",
       "9                    6943.0                          565.0   \n",
       "\n",
       "   seats_theather_rfmin_per_100000_cap  museum_visitis_per_100_cap  \\\n",
       "0                              0.45356                      1240.0   \n",
       "1                              0.45356                      1240.0   \n",
       "2                              0.45356                      1240.0   \n",
       "3                              0.45356                      1240.0   \n",
       "4                              0.45356                      1240.0   \n",
       "5                              0.45356                      1240.0   \n",
       "6                              0.45356                      1240.0   \n",
       "7                              0.45356                      1240.0   \n",
       "8                              0.45356                      1240.0   \n",
       "9                              0.45356                      1240.0   \n",
       "\n",
       "   bandwidth_sports  population_reg_sports_share  students_reg_sports_share  \\\n",
       "0          269768.0                        22.37                      64.12   \n",
       "1          269768.0                        22.37                      64.12   \n",
       "2          269768.0                        22.37                      64.12   \n",
       "3          269768.0                        22.37                      64.12   \n",
       "4          269768.0                        22.37                      64.12   \n",
       "5          269768.0                        22.37                      64.12   \n",
       "6          269768.0                        22.37                      64.12   \n",
       "7          269768.0                        22.37                      64.12   \n",
       "8          269768.0                        22.37                      64.12   \n",
       "9          269768.0                        22.37                      64.12   \n",
       "\n",
       "   apartment_build  apartment_fund_sqm  \n",
       "0          23587.0            230310.0  \n",
       "1          23587.0            230310.0  \n",
       "2          23587.0            230310.0  \n",
       "3          23587.0            230310.0  \n",
       "4          23587.0            230310.0  \n",
       "5          23587.0            230310.0  \n",
       "6          23587.0            230310.0  \n",
       "7          23587.0            230310.0  \n",
       "8          23587.0            230310.0  \n",
       "9          23587.0            230310.0  \n",
       "\n",
       "[10 rows x 390 columns]"
      ]
     },
     "execution_count": 4,
     "metadata": {},
     "output_type": "execute_result"
    }
   ],
   "source": [
    "data.head(10)"
   ]
  },
  {
   "cell_type": "markdown",
   "id": "objective-working",
   "metadata": {
    "id": "objective-working"
   },
   "source": [
    "**1.1.2) preprocess the dataset by dropping the ```timestamp``` feature, filling ```NaN```s with 0, converting the categorical variables into dummy variables**"
   ]
  },
  {
   "cell_type": "code",
   "execution_count": 5,
   "id": "another-keyboard",
   "metadata": {
    "id": "another-keyboard"
   },
   "outputs": [],
   "source": [
    "### BEGIN Solution (do not delete this comment)\n",
    "\n",
    "data = data.fillna(0)\n",
    "data = data.drop('timestamp', axis=1)\n",
    "\n",
    "cat = data.select_dtypes(include=['object']).columns\n",
    "for c in cat:\n",
    "    pd.get_dummies(data[c])\n",
    "\n",
    "data = data.drop(cat, axis=1)\n",
    "\n",
    "### END Solution (do not delete this comment)"
   ]
  },
  {
   "cell_type": "markdown",
   "id": "dress-shanghai",
   "metadata": {
    "id": "dress-shanghai"
   },
   "source": [
    "**1.1.3) define ```x_train```, ```x_test```, ```y_train```, ```y_test```. The train-test split should be 70:30**\n"
   ]
  },
  {
   "cell_type": "code",
   "execution_count": 6,
   "id": "outdoor-runner",
   "metadata": {
    "id": "outdoor-runner"
   },
   "outputs": [],
   "source": [
    "### BEGIN Solution (do not delete this comment)\n",
    "\n",
    "X = data.loc[:, data.columns != 'price_doc']\n",
    "y = data['price_doc']\n",
    "\n",
    "x_train, x_test, y_train, y_test = train_test_split(X, y, train_size=0.7, random_state=69)\n",
    "\n",
    "### END Solution (do not delete this comment)"
   ]
  },
  {
   "cell_type": "markdown",
   "id": "engaging-ready",
   "metadata": {
    "id": "engaging-ready"
   },
   "source": [
    "\n",
    "**1.1.4) plot the histogram of y values. Note that the mean of these values is very high and the distribution of the values is far from normal. Create ```y_train_log``` and ```y_test_log``` by applying $log_{y}$. Now plot the new histogram of the obtained values. You should use these log values for the next subtasks.**   "
   ]
  },
  {
   "cell_type": "code",
   "execution_count": 10,
   "id": "28274f0c",
   "metadata": {},
   "outputs": [
    {
     "data": {
      "image/png": "[encoded data removed]",
      "text/plain": [
       "<Figure size 1440x1440 with 4 Axes>"
      ]
     },
     "metadata": {
      "needs_background": "light"
     },
     "output_type": "display_data"
    }
   ],
   "source": [
    "fig, (ax1, ax2, ax3, ax4) = plt.subplots(4, figsize=(20,20))\n",
    "\n",
    "\n",
    "n, bins, patches = ax1.hist(y_train, 100)\n",
    "ax1.set_title('price_doc')\n",
    "ax1.grid(True)\n",
    "\n",
    "n, bins, patches = ax2.hist(y_test, 100)\n",
    "ax2.set_title('price_doc')\n",
    "ax2.grid(True)\n",
    "\n",
    "y_train_log = np.log(y_train)\n",
    "y_test_log = np.log(y_test)\n",
    "\n",
    "\n",
    "n, bins, patches = ax3.hist(y_train_log, 100)\n",
    "ax3.set_title('price_doc')\n",
    "ax3.grid(True)\n",
    "\n",
    "n, bins, patches = ax4.hist(y_test_log, 100)\n",
    "ax4.set_title('price_doc')\n",
    "ax4.grid(True)\n",
    "\n",
    "plt.show()"
   ]
  },
  {
   "cell_type": "code",
   "execution_count": 9,
   "id": "inclusive-outreach",
   "metadata": {
    "colab": {
     "base_uri": "https://localhost:8080/",
     "height": 575
    },
    "id": "inclusive-outreach",
    "outputId": "6a70e6b1-b183-470a-a694-52e230c3da6b"
   },
   "outputs": [
    {
     "name": "stdout",
     "output_type": "stream",
     "text": [
      "EXPECTED OUTPUT FORMAT\n"
     ]
    },
    {
     "data": {
      "image/png": "[encoded data removed]",
      "text/plain": [
       "<Figure size 432x288 with 1 Axes>"
      ]
     },
     "metadata": {
      "needs_background": "light"
     },
     "output_type": "display_data"
    },
    {
     "data": {
      "image/png": "[encoded data removed]",
      "text/plain": [
       "<Figure size 432x288 with 1 Axes>"
      ]
     },
     "metadata": {
      "needs_background": "light"
     },
     "output_type": "display_data"
    }
   ],
   "source": [
    "### BEGIN Solution (do not delete this comment)\n",
    "\n",
    "\n",
    "\n",
    "### END Solution (do not delete this comment)"
   ]
  },
  {
   "cell_type": "markdown",
   "id": "noticed-drunk",
   "metadata": {
    "id": "noticed-drunk"
   },
   "source": [
    "**1.1.5) print the number of features in the created ```x_train``` and ```x_test``` datasets. Answer the question: do you think all of these features are relevant for the adequate price prediction?**\n"
   ]
  },
  {
   "cell_type": "code",
   "execution_count": 8,
   "id": "strategic-spending",
   "metadata": {
    "colab": {
     "base_uri": "https://localhost:8080/"
    },
    "id": "strategic-spending",
    "outputId": "60227791-3f62-4d31-cbcd-a5a8aada6763"
   },
   "outputs": [
    {
     "name": "stdout",
     "output_type": "stream",
     "text": [
      "Number of features in x_train:  370\n",
      "Number of features in x_test  370\n"
     ]
    }
   ],
   "source": [
    "### BEGIN Solution (do not delete this comment)\n",
    "\n",
    "print('Number of features in x_train: ', len(x_train.columns))\n",
    "print('Number of features in x_test ', len(x_test.columns))\n",
    "\n",
    "### END Solution (do not delete this comment)"
   ]
  },
  {
   "cell_type": "markdown",
   "id": "restricted-anchor",
   "metadata": {
    "id": "restricted-anchor"
   },
   "source": [
    "**Your text answer (do not delete this comment)**:\n",
    "\n",
    "\\<write your answer\\>"
   ]
  },
  {
   "cell_type": "markdown",
   "id": "endangered-mineral",
   "metadata": {
    "id": "endangered-mineral"
   },
   "source": [
    "**1.1.6) use random forest to find the importance of the features. Plot the histogram of the importances.**"
   ]
  },
  {
   "cell_type": "code",
   "execution_count": 11,
   "id": "78f6828c",
   "metadata": {},
   "outputs": [
    {
     "data": {
      "image/png": "[encoded data removed]",
      "text/plain": [
       "<Figure size 432x288 with 1 Axes>"
      ]
     },
     "metadata": {
      "needs_background": "light"
     },
     "output_type": "display_data"
    }
   ],
   "source": [
    "from sklearn.ensemble import RandomForestRegressor\n",
    "\n",
    "rf = RandomForestRegressor(n_estimators=20, random_state=69)\n",
    "rf.fit(x_train, y_train_log)\n",
    "\n",
    "ft_importances = rf.feature_importances_\n",
    "\n",
    "plt.title('feature importances')\n",
    "plt.xlabel('feature')\n",
    "plt.ylabel('importance')\n",
    "plt.hist(ft_importances, bins=100)\n",
    "plt.show()"
   ]
  },
  {
   "cell_type": "code",
   "execution_count": 11,
   "id": "residential-tongue",
   "metadata": {
    "colab": {
     "base_uri": "https://localhost:8080/",
     "height": 282
    },
    "id": "residential-tongue",
    "outputId": "3ed70854-fddc-439f-eef5-542e3de192e2"
   },
   "outputs": [
    {
     "name": "stdout",
     "output_type": "stream",
     "text": [
      "EXPECTED OUTPUT FORMAT\n"
     ]
    },
    {
     "data": {
      "image/png": "[encoded data removed]",
      "text/plain": [
       "<Figure size 432x288 with 1 Axes>"
      ]
     },
     "metadata": {
      "needs_background": "light"
     },
     "output_type": "display_data"
    }
   ],
   "source": [
    "### BEGIN Solution (do not delete this comment)\n",
    "\n",
    "### END Solution (do not delete this comment)"
   ]
  },
  {
   "cell_type": "markdown",
   "id": "ethical-firmware",
   "metadata": {
    "id": "ethical-firmware"
   },
   "source": [
    "**1.1.7) print the names of the 20 most important features**"
   ]
  },
  {
   "cell_type": "code",
   "execution_count": 15,
   "id": "amazing-marriage",
   "metadata": {
    "colab": {
     "base_uri": "https://localhost:8080/"
    },
    "id": "amazing-marriage",
    "outputId": "53ab5987-aa41-43f6-816e-37580d1cff79"
   },
   "outputs": [
    {
     "name": "stdout",
     "output_type": "stream",
     "text": [
      "full_sq                       0.241894\n",
      "sport_count_3000              0.024513\n",
      "cafe_count_3000               0.018743\n",
      "num_room                      0.014013\n",
      "cafe_count_2000               0.010684\n",
      "zd_vokzaly_avto_km            0.009988\n",
      "micex_cbi_tr                  0.009611\n",
      "swim_pool_km                  0.008613\n",
      "metro_km_avto                 0.007448\n",
      "brent                         0.007435\n",
      "eurrub                        0.007304\n",
      "additional_education_km       0.007235\n",
      "cafe_count_5000               0.007108\n",
      "metro_min_avto                0.007008\n",
      "catering_km                   0.006973\n",
      "micex                         0.006943\n",
      "detention_facility_km         0.006921\n",
      "railroad_km                   0.006851\n",
      "cafe_count_5000_price_2500    0.006826\n",
      "ttk_km                        0.006786\n",
      "dtype: float64\n"
     ]
    }
   ],
   "source": [
    "### BEGIN Solution (do not delete this comment)\n",
    "\n",
    "feat_importances = pd.Series(ft_importances, index=x_train.columns)\n",
    "top_20_imp = feat_importances.nlargest(20)\n",
    "print(top_20_imp)\n",
    "\n",
    "### END Solution (do not delete this comment)"
   ]
  },
  {
   "cell_type": "markdown",
   "id": "threaded-ivory",
   "metadata": {
    "id": "threaded-ivory"
   },
   "source": [
    "<br>"
   ]
  },
  {
   "cell_type": "markdown",
   "id": "little-toddler",
   "metadata": {
    "id": "little-toddler"
   },
   "source": [
    "### Subproblem 1.2. Training models on the most important features (1 point)"
   ]
  },
  {
   "cell_type": "markdown",
   "id": "vietnamese-patrick",
   "metadata": {
    "id": "vietnamese-patrick"
   },
   "source": [
    "In this subproblem, you will train several ML models on the found 20 most important features: train **Linear Regression**,  **Ridge regression**, **Random forest**,  **DecisionTree** and evaluate their performance using the Root Mean Squared Logarithmic Error (RMSLE) on both train/test sets. \n",
    "\n",
    "You will have to repeat the same actions in the next tasks too, so we recommend to implement\n",
    "a dedicated function for comparisons, which\n",
    "1. on input takes a training dataset `(X_train, y_train)` and a test sample `(X_test, y_test)`;\n",
    "2. it trains **all of the listed models** on the `(X_train, y_train)` sample;\n",
    "3. it computes and returns a table with the RMSLE score of each fitted model on the train and test datasets."
   ]
  },
  {
   "cell_type": "markdown",
   "id": "stupid-principle",
   "metadata": {
    "id": "stupid-principle"
   },
   "source": [
    "**1.2.1) Implement the function described above**"
   ]
  },
  {
   "cell_type": "code",
   "execution_count": 33,
   "id": "paperback-uniform",
   "metadata": {
    "id": "paperback-uniform"
   },
   "outputs": [],
   "source": [
    "### BEGIN Solution (do not delete this comment)\n",
    "\n",
    "from sklearn.metrics import mean_squared_log_error\n",
    "from sklearn.linear_model import LinearRegression, Lasso, Ridge\n",
    "from sklearn.tree import DecisionTreeRegressor\n",
    "from sklearn.ensemble import RandomForestRegressor\n",
    "\n",
    "def fit_me(X_train, Y_train, X_test, Y_test):\n",
    "\n",
    "    models = {\"Linear Regression\": LinearRegression(),\n",
    "          \"Lasso\": Lasso(random_state=69),\n",
    "          \"Ridge\": Ridge(random_state=69),\n",
    "          \"Dtree\": DecisionTreeRegressor(random_state=69),\n",
    "          \"RFR\": RandomForestRegressor(random_state=69)\n",
    "    }\n",
    "\n",
    "    err_train = []\n",
    "    err_test = []\n",
    "\n",
    "    for model in models.values():\n",
    "        model.fit(X_train, Y_train)\n",
    "        err_train.append(np.sqrt(mean_squared_log_error(Y_train, model.predict(X_train))))\n",
    "        err_test.append(np.sqrt(mean_squared_log_error(Y_test, model.predict(X_test))))\n",
    "\n",
    "    table_err = pd.DataFrame({\n",
    "        \"Methods\": list(models.keys()),\n",
    "        \"Train error\": err_train,\n",
    "        \"Test error\": err_test\n",
    "    })\n",
    "\n",
    "    return table_err\n",
    "\n",
    "### END Solution (do not delete this comment)"
   ]
  },
  {
   "cell_type": "markdown",
   "id": "demographic-honolulu",
   "metadata": {
    "id": "demographic-honolulu"
   },
   "source": [
    "**1.2.2) Apply the implemented function to our dataset (use only the 20 most important features)**"
   ]
  },
  {
   "cell_type": "code",
   "execution_count": 34,
   "id": "d81b8020",
   "metadata": {},
   "outputs": [
    {
     "data": {
      "text/plain": [
       "array(['full_sq', 'sport_count_3000', 'cafe_count_3000', 'num_room',\n",
       "       'cafe_count_2000', 'zd_vokzaly_avto_km', 'micex_cbi_tr',\n",
       "       'swim_pool_km', 'metro_km_avto', 'brent', 'eurrub',\n",
       "       'additional_education_km', 'cafe_count_5000', 'metro_min_avto',\n",
       "       'catering_km', 'micex', 'detention_facility_km', 'railroad_km',\n",
       "       'cafe_count_5000_price_2500', 'ttk_km'], dtype=object)"
      ]
     },
     "execution_count": 34,
     "metadata": {},
     "output_type": "execute_result"
    }
   ],
   "source": [
    "top_20_imp.index.values"
   ]
  },
  {
   "cell_type": "code",
   "execution_count": 35,
   "id": "e7d1774e",
   "metadata": {},
   "outputs": [
    {
     "data": {
      "text/html": [
       "<div>\n",
       "<style scoped>\n",
       "    .dataframe tbody tr th:only-of-type {\n",
       "        vertical-align: middle;\n",
       "    }\n",
       "\n",
       "    .dataframe tbody tr th {\n",
       "        vertical-align: top;\n",
       "    }\n",
       "\n",
       "    .dataframe thead th {\n",
       "        text-align: right;\n",
       "    }\n",
       "</style>\n",
       "<table border=\"1\" class=\"dataframe\">\n",
       "  <thead>\n",
       "    <tr style=\"text-align: right;\">\n",
       "      <th></th>\n",
       "      <th>Methods</th>\n",
       "      <th>Train error</th>\n",
       "      <th>Test error</th>\n",
       "    </tr>\n",
       "  </thead>\n",
       "  <tbody>\n",
       "    <tr>\n",
       "      <th>0</th>\n",
       "      <td>Linear Regression</td>\n",
       "      <td>0.032362</td>\n",
       "      <td>0.032866</td>\n",
       "    </tr>\n",
       "    <tr>\n",
       "      <th>1</th>\n",
       "      <td>Lasso</td>\n",
       "      <td>0.034717</td>\n",
       "      <td>0.035122</td>\n",
       "    </tr>\n",
       "    <tr>\n",
       "      <th>2</th>\n",
       "      <td>Ridge</td>\n",
       "      <td>0.032362</td>\n",
       "      <td>0.032866</td>\n",
       "    </tr>\n",
       "    <tr>\n",
       "      <th>3</th>\n",
       "      <td>Dtree</td>\n",
       "      <td>0.000423</td>\n",
       "      <td>0.042517</td>\n",
       "    </tr>\n",
       "    <tr>\n",
       "      <th>4</th>\n",
       "      <td>RFR</td>\n",
       "      <td>0.013019</td>\n",
       "      <td>0.031051</td>\n",
       "    </tr>\n",
       "  </tbody>\n",
       "</table>\n",
       "</div>"
      ],
      "text/plain": [
       "             Methods  Train error  Test error\n",
       "0  Linear Regression     0.032362    0.032866\n",
       "1              Lasso     0.034717    0.035122\n",
       "2              Ridge     0.032362    0.032866\n",
       "3              Dtree     0.000423    0.042517\n",
       "4                RFR     0.013019    0.031051"
      ]
     },
     "execution_count": 35,
     "metadata": {},
     "output_type": "execute_result"
    }
   ],
   "source": [
    "ans = fit_me(x_train[top_20_imp.index], y_train_log, x_test[top_20_imp.index], y_test_log)\n",
    "ans"
   ]
  },
  {
   "cell_type": "code",
   "execution_count": 14,
   "id": "loved-bedroom",
   "metadata": {
    "colab": {
     "base_uri": "https://localhost:8080/",
     "height": 221
    },
    "id": "loved-bedroom",
    "outputId": "c8bb94f8-18f2-4395-ec9c-79178786015c"
   },
   "outputs": [
    {
     "name": "stdout",
     "output_type": "stream",
     "text": [
      "EXPECTED OUTPUT FORMAT\n"
     ]
    },
    {
     "data": {
      "text/html": [
       "<div>\n",
       "<style scoped>\n",
       "    .dataframe tbody tr th:only-of-type {\n",
       "        vertical-align: middle;\n",
       "    }\n",
       "\n",
       "    .dataframe tbody tr th {\n",
       "        vertical-align: top;\n",
       "    }\n",
       "\n",
       "    .dataframe thead th {\n",
       "        text-align: right;\n",
       "    }\n",
       "</style>\n",
       "<table border=\"1\" class=\"dataframe\">\n",
       "  <thead>\n",
       "    <tr style=\"text-align: right;\">\n",
       "      <th></th>\n",
       "      <th>Methods</th>\n",
       "      <th>Train error</th>\n",
       "      <th>Test error</th>\n",
       "    </tr>\n",
       "  </thead>\n",
       "  <tbody>\n",
       "    <tr>\n",
       "      <th>0</th>\n",
       "      <td>Linear Regression</td>\n",
       "      <td>1.074649e-03</td>\n",
       "      <td>0.001070</td>\n",
       "    </tr>\n",
       "    <tr>\n",
       "      <th>1</th>\n",
       "      <td>Lasso</td>\n",
       "      <td>1.340358e-03</td>\n",
       "      <td>0.001332</td>\n",
       "    </tr>\n",
       "    <tr>\n",
       "      <th>2</th>\n",
       "      <td>Ridge</td>\n",
       "      <td>1.074649e-03</td>\n",
       "      <td>0.001070</td>\n",
       "    </tr>\n",
       "    <tr>\n",
       "      <th>3</th>\n",
       "      <td>Dtree</td>\n",
       "      <td>8.907241e-08</td>\n",
       "      <td>0.001752</td>\n",
       "    </tr>\n",
       "    <tr>\n",
       "      <th>4</th>\n",
       "      <td>RFR</td>\n",
       "      <td>1.273352e-04</td>\n",
       "      <td>0.000871</td>\n",
       "    </tr>\n",
       "  </tbody>\n",
       "</table>\n",
       "</div>"
      ],
      "text/plain": [
       "             Methods   Train error  Test error\n",
       "0  Linear Regression  1.074649e-03    0.001070\n",
       "1              Lasso  1.340358e-03    0.001332\n",
       "2              Ridge  1.074649e-03    0.001070\n",
       "3              Dtree  8.907241e-08    0.001752\n",
       "4                RFR  1.273352e-04    0.000871"
      ]
     },
     "execution_count": 14,
     "metadata": {},
     "output_type": "execute_result"
    }
   ],
   "source": [
    "### BEGIN Solution\n",
    "\n",
    "\n",
    "### END Solution"
   ]
  },
  {
   "cell_type": "markdown",
   "id": "6lSOGA4-7RSx",
   "metadata": {
    "id": "6lSOGA4-7RSx"
   },
   "source": [
    "<br>"
   ]
  },
  {
   "cell_type": "markdown",
   "id": "stock-jewel",
   "metadata": {
    "id": "stock-jewel"
   },
   "source": [
    "### Subproblem 1.3. Forward-backward methods (1 point)\n",
    "In the subproblems above, we have relied on the feature importances found by the random forest method. The main goal of this subproblem is to find feature importances by applying the forward-backward methods: the main idea is to add or remove features and compute how this removal influences the value of the loss function or some other criteria.\n",
    "\n",
    "The decision about adding or deleting a feature may be made based on:\n",
    "\n",
    "- AIC\n",
    "- BIC\n",
    "- validation error\n",
    "- Mallows $C_p$\n",
    "- sklearn's `estimator.score()`"
   ]
  },
  {
   "cell_type": "markdown",
   "id": "southern-closer",
   "metadata": {
    "id": "southern-closer"
   },
   "source": [
    "In subtasks, 1.3.1 - 1.3.3, implement the following greedy feature selection algorithm with early stopping using the mean of the RMSLE scores achieved on the 3-fold cross-validation. Please bear in mind that **the lower** RMSLE (`mean_squared_log_error`) is, **the higher the model \"quality\" is** and look up `cross_val_score(...)` peculiarities in [scikit's manual](https://scikit-learn.org/stable/documentation.html) for more information.\n",
    "\n",
    "```python\n",
    "# Initialize with an empty list of features.\n",
    "list_of_best_features = []\n",
    "\n",
    "while round < n_rounds:\n",
    "    round = round + 1\n",
    "    \n",
    "    if no_more_features:\n",
    "        # end loop\n",
    "\n",
    "    # Iterate over currently *unused* features and use $k$-fold \n",
    "    # . `cross_val_score` to measure model \"quality\".\n",
    "    compute_quality_with_each_new_unused_feature(...)\n",
    "\n",
    "    # **Add** the feature that gives the highest \"quality\" of the model.\n",
    "    pick_and_add_the_best_feature(...)\n",
    "\n",
    "    if model_quality_has_increased_since_last_round:\n",
    "        round = 0\n",
    "\n",
    "return list_of_best_features\n",
    "```"
   ]
  },
  {
   "cell_type": "markdown",
   "id": "suffering-italy",
   "metadata": {
    "id": "suffering-italy"
   },
   "source": [
    "**1.3.1) In the cell below, you have to implement a function that would iterate over a list of features and use $k$-fold `cross_val_score` to measure the model's \"quality\".** "
   ]
  },
  {
   "cell_type": "code",
   "execution_count": null,
   "id": "caroline-state",
   "metadata": {
    "id": "caroline-state"
   },
   "outputs": [],
   "source": [
    "from sklearn.metrics import make_scorer\n",
    "\n",
    "def selection_step(model, X, y, used_features=(), cv=3):\n",
    "    \"\"\"\n",
    "    Parameters\n",
    "    ==========\n",
    "        X: ndarray - training inputs\n",
    "        y: ndarray - training targets\n",
    "        used_features: - list of features\n",
    "        cv: int - number of folds\n",
    "\n",
    "    Returns\n",
    "    =======\n",
    "        scores - dictionary of scores\n",
    "    \"\"\"\n",
    "    \n",
    "    scores = {}\n",
    "    \n",
    "    ### BEGIN Solution\n",
    "    \n",
    "\n",
    "    ### END Solution\n",
    "\n",
    "    return scores"
   ]
  },
  {
   "cell_type": "markdown",
   "id": "laughing-patio",
   "metadata": {
    "id": "laughing-patio"
   },
   "source": [
    "**1.3.2) Implement a forward greedy feature selection function (the one described in the pseudocode in subtask 1 above) that would**\n",
    "\n",
    "**- compute the model's \"quality\" over the currently *unused* features**\n",
    "\n",
    "**- find the feature, which has given the best score and add it to the list of the currently *used* features**\n",
    "\n",
    "**- if the model's quality has increased since the last round, add this feature to the list of the best features and  print the best score and the current best features list**\n",
    "\n",
    "**Do not forget to implement the early stopping.**"
   ]
  },
  {
   "cell_type": "code",
   "execution_count": null,
   "id": "pressed-worse",
   "metadata": {
    "id": "pressed-worse"
   },
   "outputs": [],
   "source": [
    "def forward_steps(X, y, n_rounds, model):\n",
    "    \"\"\"\n",
    "    Parameters\n",
    "    ==========\n",
    "        X: ndarray - training inputs\n",
    "        y: ndarray - training targets\n",
    "        n_rounds: int - early stop when score doesn't increase n_rounds\n",
    "        model: sklearn model\n",
    "\n",
    "    Returns\n",
    "    =======\n",
    "        feat_best_list - list of features\n",
    "    \"\"\"\n",
    "    \n",
    "    feat_best_list = []\n",
    "\n",
    "    ### BEGIN Solution\n",
    "\n",
    "    ### END Solution\n",
    "    \n",
    "    return feat_best_list\n"
   ]
  },
  {
   "cell_type": "markdown",
   "id": "geographic-holly",
   "metadata": {
    "id": "geographic-holly"
   },
   "source": [
    "**1.3.3) Use the function implemented above + DecisionTreeRegressor to get the best features according to this algorithm. (HINT: Use ```n_rounds = 2```)**"
   ]
  },
  {
   "cell_type": "code",
   "execution_count": null,
   "id": "hazardous-retirement",
   "metadata": {
    "colab": {
     "base_uri": "https://localhost:8080/"
    },
    "id": "hazardous-retirement",
    "outputId": "81502f2d-f6fa-4497-d569-58605bfff430"
   },
   "outputs": [],
   "source": [
    "### BEGIN Solution\n",
    "\n",
    "### END Solution"
   ]
  },
  {
   "cell_type": "markdown",
   "id": "contrary-packet",
   "metadata": {
    "id": "contrary-packet"
   },
   "source": [
    "**1.3.4) Use Linear Regression, Ridge regression, Random forest and DecisionTree to get the RMSLE scores using these features. Remember the function you wrote earlier.**"
   ]
  },
  {
   "cell_type": "code",
   "execution_count": 18,
   "id": "graduate-tooth",
   "metadata": {
    "colab": {
     "base_uri": "https://localhost:8080/",
     "height": 221
    },
    "id": "graduate-tooth",
    "outputId": "72812408-0c21-4229-ff2d-f29243966f3d"
   },
   "outputs": [
    {
     "name": "stdout",
     "output_type": "stream",
     "text": [
      "EXPECTED OUTPUT FORMAT\n"
     ]
    },
    {
     "data": {
      "text/html": [
       "<div>\n",
       "<style scoped>\n",
       "    .dataframe tbody tr th:only-of-type {\n",
       "        vertical-align: middle;\n",
       "    }\n",
       "\n",
       "    .dataframe tbody tr th {\n",
       "        vertical-align: top;\n",
       "    }\n",
       "\n",
       "    .dataframe thead th {\n",
       "        text-align: right;\n",
       "    }\n",
       "</style>\n",
       "<table border=\"1\" class=\"dataframe\">\n",
       "  <thead>\n",
       "    <tr style=\"text-align: right;\">\n",
       "      <th></th>\n",
       "      <th>Methods</th>\n",
       "      <th>Train error</th>\n",
       "      <th>Test error</th>\n",
       "    </tr>\n",
       "  </thead>\n",
       "  <tbody>\n",
       "    <tr>\n",
       "      <th>0</th>\n",
       "      <td>Linear Regression</td>\n",
       "      <td>0.001254</td>\n",
       "      <td>0.001256</td>\n",
       "    </tr>\n",
       "    <tr>\n",
       "      <th>1</th>\n",
       "      <td>Lasso</td>\n",
       "      <td>0.001369</td>\n",
       "      <td>0.001361</td>\n",
       "    </tr>\n",
       "    <tr>\n",
       "      <th>2</th>\n",
       "      <td>Ridge</td>\n",
       "      <td>0.001254</td>\n",
       "      <td>0.001256</td>\n",
       "    </tr>\n",
       "    <tr>\n",
       "      <th>3</th>\n",
       "      <td>Dtree</td>\n",
       "      <td>0.000018</td>\n",
       "      <td>0.002222</td>\n",
       "    </tr>\n",
       "    <tr>\n",
       "      <th>4</th>\n",
       "      <td>RFR</td>\n",
       "      <td>0.000185</td>\n",
       "      <td>0.001215</td>\n",
       "    </tr>\n",
       "  </tbody>\n",
       "</table>\n",
       "</div>"
      ],
      "text/plain": [
       "             Methods  Train error  Test error\n",
       "0  Linear Regression     0.001254    0.001256\n",
       "1              Lasso     0.001369    0.001361\n",
       "2              Ridge     0.001254    0.001256\n",
       "3              Dtree     0.000018    0.002222\n",
       "4                RFR     0.000185    0.001215"
      ]
     },
     "execution_count": 18,
     "metadata": {},
     "output_type": "execute_result"
    }
   ],
   "source": [
    "### BEGIN Solution\n",
    "\n",
    "### END Solution"
   ]
  },
  {
   "cell_type": "markdown",
   "id": "infinite-navigation",
   "metadata": {
    "id": "infinite-navigation"
   },
   "source": [
    "<br>"
   ]
  },
  {
   "cell_type": "markdown",
   "id": "individual-rendering",
   "metadata": {
    "id": "individual-rendering"
   },
   "source": [
    "## Task 2. Multi-Class Classification Strategies (1 point)\n",
    "In this task, you will deal with the multiclass classification problem for the Glass Classification Data. Let's load the dataset."
   ]
  },
  {
   "cell_type": "code",
   "execution_count": 19,
   "id": "technical-trader",
   "metadata": {
    "colab": {
     "base_uri": "https://localhost:8080/",
     "height": 142
    },
    "id": "technical-trader",
    "outputId": "91043ffe-6127-441b-a6ae-58f111768d40"
   },
   "outputs": [
    {
     "data": {
      "text/html": [
       "<div>\n",
       "<style scoped>\n",
       "    .dataframe tbody tr th:only-of-type {\n",
       "        vertical-align: middle;\n",
       "    }\n",
       "\n",
       "    .dataframe tbody tr th {\n",
       "        vertical-align: top;\n",
       "    }\n",
       "\n",
       "    .dataframe thead th {\n",
       "        text-align: right;\n",
       "    }\n",
       "</style>\n",
       "<table border=\"1\" class=\"dataframe\">\n",
       "  <thead>\n",
       "    <tr style=\"text-align: right;\">\n",
       "      <th></th>\n",
       "      <th>RI</th>\n",
       "      <th>Na</th>\n",
       "      <th>Mg</th>\n",
       "      <th>Al</th>\n",
       "      <th>Si</th>\n",
       "      <th>K</th>\n",
       "      <th>Ca</th>\n",
       "      <th>Ba</th>\n",
       "      <th>Fe</th>\n",
       "      <th>Type</th>\n",
       "    </tr>\n",
       "  </thead>\n",
       "  <tbody>\n",
       "    <tr>\n",
       "      <th>114</th>\n",
       "      <td>1.51847</td>\n",
       "      <td>13.10</td>\n",
       "      <td>3.97</td>\n",
       "      <td>1.19</td>\n",
       "      <td>72.44</td>\n",
       "      <td>0.60</td>\n",
       "      <td>8.43</td>\n",
       "      <td>0.0</td>\n",
       "      <td>0.0</td>\n",
       "      <td>2</td>\n",
       "    </tr>\n",
       "    <tr>\n",
       "      <th>138</th>\n",
       "      <td>1.51674</td>\n",
       "      <td>12.79</td>\n",
       "      <td>3.52</td>\n",
       "      <td>1.54</td>\n",
       "      <td>73.36</td>\n",
       "      <td>0.66</td>\n",
       "      <td>7.90</td>\n",
       "      <td>0.0</td>\n",
       "      <td>0.0</td>\n",
       "      <td>2</td>\n",
       "    </tr>\n",
       "    <tr>\n",
       "      <th>8</th>\n",
       "      <td>1.51918</td>\n",
       "      <td>14.04</td>\n",
       "      <td>3.58</td>\n",
       "      <td>1.37</td>\n",
       "      <td>72.08</td>\n",
       "      <td>0.56</td>\n",
       "      <td>8.30</td>\n",
       "      <td>0.0</td>\n",
       "      <td>0.0</td>\n",
       "      <td>1</td>\n",
       "    </tr>\n",
       "  </tbody>\n",
       "</table>\n",
       "</div>"
      ],
      "text/plain": [
       "          RI     Na    Mg    Al     Si     K    Ca   Ba   Fe  Type\n",
       "114  1.51847  13.10  3.97  1.19  72.44  0.60  8.43  0.0  0.0     2\n",
       "138  1.51674  12.79  3.52  1.54  73.36  0.66  7.90  0.0  0.0     2\n",
       "8    1.51918  14.04  3.58  1.37  72.08  0.56  8.30  0.0  0.0     1"
      ]
     },
     "execution_count": 19,
     "metadata": {},
     "output_type": "execute_result"
    }
   ],
   "source": [
    "data = pd.read_csv('glass.csv')\n",
    "X, y = data.drop('Type', axis=1), data.Type\n",
    "data.sample(3)"
   ]
  },
  {
   "cell_type": "markdown",
   "id": "flying-region",
   "metadata": {
    "id": "flying-region"
   },
   "source": [
    "The features of each glass object correspond to the fraction of the particular chemical element in the object. The target variable corresponds to the type of glass (6 classes).\n",
    "\n",
    "In this problem, you have to empirically compare the time complexity and performance of several multiclass labeling strategies for different algorithms. You must consider the following algorithms:\n",
    "* Single Decision Tree (depth 7)\n",
    "* Medium Random Forest (100 trees of depth 3)\n",
    "* KNearestNeighbors (5 neighbors)\n",
    "* Logistic Regression\n",
    "\n",
    "Note that all these algorithms by default support **multiclass labeling**. Nevertheless, we want you to compare this approach with **OneVSRest** and **OneVSOne** approaches applied to these algorithms. More precisely, for every pair (algorithm, approach) you are to perform a 5-fold cross-validation on the data and output the validation score and the computation time in the **table** form. Please note that you also have to choose the metric to optimize during CV (e.g. accuracy, balanced accuracy) on your own. \n",
    "\n",
    "After that, you are to answer the following questions:\n",
    "* Which metric did you choose to optimize during cross-validation and why? Explain\n",
    "* For which algorithms the usage of OneVSRest/OneVSOne approach provides significantly better performance without a significant increase in computation time?"
   ]
  },
  {
   "cell_type": "code",
   "execution_count": 20,
   "id": "authentic-slope",
   "metadata": {
    "colab": {
     "base_uri": "https://localhost:8080/",
     "height": 301
    },
    "id": "authentic-slope",
    "outputId": "5421c6dc-461c-4d7e-c472-aaf96785958a"
   },
   "outputs": [
    {
     "name": "stdout",
     "output_type": "stream",
     "text": [
      "EXPECTED OUTPUT FORMAT\n",
      "Cross Validation Scores\n"
     ]
    },
    {
     "data": {
      "text/html": [
       "<div>\n",
       "<style scoped>\n",
       "    .dataframe tbody tr th:only-of-type {\n",
       "        vertical-align: middle;\n",
       "    }\n",
       "\n",
       "    .dataframe tbody tr th {\n",
       "        vertical-align: top;\n",
       "    }\n",
       "\n",
       "    .dataframe thead th {\n",
       "        text-align: right;\n",
       "    }\n",
       "</style>\n",
       "<table border=\"1\" class=\"dataframe\">\n",
       "  <thead>\n",
       "    <tr style=\"text-align: right;\">\n",
       "      <th></th>\n",
       "      <th>Logistic</th>\n",
       "      <th>Random Forest</th>\n",
       "      <th>K Nearest Neighbors</th>\n",
       "      <th>Decision Tree</th>\n",
       "    </tr>\n",
       "  </thead>\n",
       "  <tbody>\n",
       "    <tr>\n",
       "      <th>Multiclass</th>\n",
       "      <td>0.549127</td>\n",
       "      <td>0.503175</td>\n",
       "      <td>0.548234</td>\n",
       "      <td>0.566865</td>\n",
       "    </tr>\n",
       "    <tr>\n",
       "      <th>OneVsRest</th>\n",
       "      <td>0.458909</td>\n",
       "      <td>0.561429</td>\n",
       "      <td>0.602202</td>\n",
       "      <td>0.525615</td>\n",
       "    </tr>\n",
       "    <tr>\n",
       "      <th>OneVsOne</th>\n",
       "      <td>0.512321</td>\n",
       "      <td>0.579206</td>\n",
       "      <td>0.560139</td>\n",
       "      <td>0.649782</td>\n",
       "    </tr>\n",
       "  </tbody>\n",
       "</table>\n",
       "</div>"
      ],
      "text/plain": [
       "            Logistic Random Forest K Nearest Neighbors Decision Tree\n",
       "Multiclass  0.549127      0.503175            0.548234      0.566865\n",
       "OneVsRest   0.458909      0.561429            0.602202      0.525615\n",
       "OneVsOne    0.512321      0.579206            0.560139      0.649782"
      ]
     },
     "metadata": {},
     "output_type": "display_data"
    },
    {
     "name": "stdout",
     "output_type": "stream",
     "text": [
      "Training Duration (CV=5)\n"
     ]
    },
    {
     "data": {
      "text/html": [
       "<div>\n",
       "<style scoped>\n",
       "    .dataframe tbody tr th:only-of-type {\n",
       "        vertical-align: middle;\n",
       "    }\n",
       "\n",
       "    .dataframe tbody tr th {\n",
       "        vertical-align: top;\n",
       "    }\n",
       "\n",
       "    .dataframe thead th {\n",
       "        text-align: right;\n",
       "    }\n",
       "</style>\n",
       "<table border=\"1\" class=\"dataframe\">\n",
       "  <thead>\n",
       "    <tr style=\"text-align: right;\">\n",
       "      <th></th>\n",
       "      <th>Logistic</th>\n",
       "      <th>Random Forest</th>\n",
       "      <th>K Nearest Neighbors</th>\n",
       "      <th>Decision Tree</th>\n",
       "    </tr>\n",
       "  </thead>\n",
       "  <tbody>\n",
       "    <tr>\n",
       "      <th>Multiclass</th>\n",
       "      <td>2.05735</td>\n",
       "      <td>0.799707</td>\n",
       "      <td>0.228685</td>\n",
       "      <td>0.0153491</td>\n",
       "    </tr>\n",
       "    <tr>\n",
       "      <th>OneVsRest</th>\n",
       "      <td>0.223413</td>\n",
       "      <td>3.32589</td>\n",
       "      <td>1.48595</td>\n",
       "      <td>0.225193</td>\n",
       "    </tr>\n",
       "    <tr>\n",
       "      <th>OneVsOne</th>\n",
       "      <td>0.320705</td>\n",
       "      <td>11.0821</td>\n",
       "      <td>6.5836</td>\n",
       "      <td>0.228742</td>\n",
       "    </tr>\n",
       "  </tbody>\n",
       "</table>\n",
       "</div>"
      ],
      "text/plain": [
       "            Logistic Random Forest K Nearest Neighbors Decision Tree\n",
       "Multiclass   2.05735      0.799707            0.228685     0.0153491\n",
       "OneVsRest   0.223413       3.32589             1.48595      0.225193\n",
       "OneVsOne    0.320705       11.0821              6.5836      0.228742"
      ]
     },
     "metadata": {},
     "output_type": "display_data"
    }
   ],
   "source": [
    "### BEGIN Solution (do not delete this comment)\n",
    "\n",
    "### END Solution (do not delete this comment)"
   ]
  },
  {
   "cell_type": "markdown",
   "id": "married-preserve",
   "metadata": {
    "id": "married-preserve"
   },
   "source": [
    "**Which metric did you choose to optimize during cross validation and why? Explain**"
   ]
  },
  {
   "cell_type": "markdown",
   "id": "dutch-alfred",
   "metadata": {
    "id": "dutch-alfred"
   },
   "source": [
    "**Your text answer (do not delete this comment)**:\n",
    "\n",
    "\\<write your answer\\>"
   ]
  },
  {
   "cell_type": "markdown",
   "id": "elect-jerusalem",
   "metadata": {
    "id": "elect-jerusalem"
   },
   "source": [
    "**For which algorithms the usage of OneVSRest/OneVSOne approach provides significantly better performance without a significant increase in computation time?**"
   ]
  },
  {
   "cell_type": "markdown",
   "id": "CH04Ord57RS4",
   "metadata": {
    "id": "CH04Ord57RS4"
   },
   "source": [
    "**Your text answer (do not delete this comment)**:\n",
    "\n",
    "\\<write your answer\\>"
   ]
  },
  {
   "cell_type": "markdown",
   "id": "electric-matthew",
   "metadata": {
    "id": "electric-matthew"
   },
   "source": [
    "# Task 3. Stacking (2 points)"
   ]
  },
  {
   "cell_type": "markdown",
   "id": "third-liverpool",
   "metadata": {
    "id": "third-liverpool"
   },
   "source": [
    "Stacking is an ensembling approach, which combines several algorithms (base models) to get better results. This is achieved by **a)** training the base models (any ML models) on the initial train data (or parts of the train data, see the paragraph below), **b)** training the meta-model (also an ML model) on the predictions of those base models.\n",
    "\n",
    "One of the main problems of stacking is overfitting. To avoid it, when evaluating the performance of the meta-model on the train set, the training data is divided into $ n $ folds, $ (n-1) $ of which are used for training the base models. The $ n $ -th fold is used for the overall prediction (calculating the meta-factor) in the following manner: the predictions on the $ n $ -th fold are made by the base models (already trained on the rest of the dataset), then these predictions on the $ n $ -th fold are fed as inputs to the meta-model.\n",
    "\n",
    "When evaluating the performance of the meta-model on the test set, there can be used various approaches$.^{[1]}$ For example, in order, to obtain meta-factors for the test data, the base classifiers can be retrained on the entire training set, since the problem of overfitting does not arise here. In other words, if we want to calculate the factors for the test set, we can safely use the training set to train the base classifiers (once again, as it is said in the paragraph above, if we want to calculate factors for the training set, then it is necessary to ensure that the classifier does not predict for those objects on which it has been trained).  \n",
    "\n",
    "You can read more details about stacking [blockpost](https://blog.statsbot.co/ensemble-learning-d1dcd548e936), [kaggle ensemble guide](https://mlwave.com/kaggle-ensembling-guide/).\n",
    "\n",
    "P.S. Stacking and Blending are two similar approaches to combining classifiers (ensembling). The difference is that Stacking uses out-of-fold predictions for the train set, and Blending uses a validation set to train the next layer ([source](quora.com/What-are-examples-of-blending-and-stacking-in-Machine-Learning)). Because they are so similar you can use any of them. \n",
    "\n",
    "[1] http://www.machinelearning.ru/wiki/images/5/56/Guschin2015Stacking.pdf  "
   ]
  },
  {
   "cell_type": "markdown",
   "id": "recognized-guest",
   "metadata": {
    "id": "recognized-guest"
   },
   "source": [
    "**Your task will be:**\n",
    "\n",
    "* Complete the ```meta_classfier``` function\n",
    "* Choose 6 different base models (base models can be any models that you know, and can differ between each other by different hyperparameters, models of ml, features e.t.c) and train them.\n",
    "* Report individual accuracy on the test set for each of the models.\n",
    "* Train the metaclassifier (in this case, once again, it is just an ML model) on the original dataset's features, report score on test.\n",
    "* Train the metaclassifier on the base models using $n$-fold cross-validation, as described above. Report the training score of the meta-classifier on the $ n $-th fold. Retrain the base models on the whole training set. Report the test score (accuracy) of the meta-classifier in this case.\n",
    "* Does stacking help to gain a better score?"
   ]
  },
  {
   "cell_type": "markdown",
   "id": "incident-ceremony",
   "metadata": {
    "id": "incident-ceremony"
   },
   "source": [
    "For this task we will use the dataset fetch_covertype from [sklearn](https://scikit-learn.org/stable/modules/generated/sklearn.datasets.fetch_covtype.html#sklearn.datasets.fetch_covtype). Split it train-test - 60/40.\n",
    "More details about this dataset you can find [here](https://archive.ics.uci.edu/ml/datasets/Covertype)"
   ]
  },
  {
   "cell_type": "code",
   "execution_count": null,
   "id": "banner-input",
   "metadata": {
    "id": "banner-input"
   },
   "outputs": [],
   "source": [
    "from sklearn import datasets\n",
    "fc = sklearn.datasets.fetch_covtype()"
   ]
  },
  {
   "cell_type": "markdown",
   "id": "collected-flash",
   "metadata": {
    "id": "collected-flash"
   },
   "source": [
    "Write meta classifier function."
   ]
  },
  {
   "cell_type": "code",
   "execution_count": null,
   "id": "brilliant-greensboro",
   "metadata": {
    "id": "brilliant-greensboro"
   },
   "outputs": [],
   "source": [
    "def meta_classifier(base_clfs, final_classifier, X_train, X_test, y_train, cv):\n",
    "    \"\"\"\n",
    "    Meta classifier prediction using stacking. \n",
    "    Input:\n",
    "    :param base_clfs: list,  base classifiers which will be stacked together.\n",
    "    :param final_classifier: estimator, a classifier which will be used to combine the base estimators. \n",
    "    :param X_train: numpy array or pandas table, train set.\n",
    "    :param X_test: numpy array or pandas table, target for train set.\n",
    "    :param X_train: numpy array or pandas table, test set.\n",
    "    :param cv: number of cross-validation folds.\n",
    "    \n",
    "    Output:\n",
    "    :param y_pred: numpy array or pandas table, prediction of meta classifier using stacking on test set.\n",
    "    :param final_classifier(optional): estimator, trained final_calssifier.\n",
    "    \n",
    "    \n",
    "    More details https://scikit-learn.org/stable/modules/generated/sklearn.ensemble.StackingClassifier.html\n",
    "    \n",
    "    \"\"\"\n",
    "    ### BEGIN Solution (do not delete this comment)\n",
    "\n",
    "    ### END Solution (do not delete this comment)\n",
    "    pass"
   ]
  },
  {
   "cell_type": "markdown",
   "id": "vfZmdicwORxq",
   "metadata": {
    "id": "vfZmdicwORxq"
   },
   "source": [
    "### Subproblem 3.1 (1 point)"
   ]
  },
  {
   "cell_type": "markdown",
   "id": "incredible-wichita",
   "metadata": {
    "id": "incredible-wichita"
   },
   "source": [
    "**3.1.1) Chose 6 different base models (base models can be any models that you know,and can differ with each other by different hyperparameters,  models of ml, features e.t.c) and train them.**"
   ]
  },
  {
   "cell_type": "code",
   "execution_count": null,
   "id": "cleared-supply",
   "metadata": {
    "colab": {
     "base_uri": "https://localhost:8080/"
    },
    "id": "cleared-supply",
    "outputId": "6c3af77e-4cc3-41cf-85e1-c179b6332f02"
   },
   "outputs": [],
   "source": [
    "### BEGIN Solution (do not delete this comment)\n",
    "\n",
    "### END Solution (do not delete this comment)"
   ]
  },
  {
   "cell_type": "markdown",
   "id": "streaming-crowd",
   "metadata": {
    "id": "streaming-crowd"
   },
   "source": [
    "**3.1.2) Report individual scores on test set. As a score use accuracy.**"
   ]
  },
  {
   "cell_type": "code",
   "execution_count": null,
   "id": "standing-breakdown",
   "metadata": {
    "colab": {
     "base_uri": "https://localhost:8080/"
    },
    "id": "standing-breakdown",
    "outputId": "34a2ebd2-6a1c-40c4-afec-d5cab639cd46"
   },
   "outputs": [],
   "source": [
    "### BEGIN Solution (do not delete this comment)\n",
    "\n",
    "### END Solution (do not delete this comment)"
   ]
  },
  {
   "cell_type": "markdown",
   "id": "8CsZdyGPOj6E",
   "metadata": {
    "id": "8CsZdyGPOj6E"
   },
   "source": [
    "### Subproblem 3.2 (1 point)"
   ]
  },
  {
   "cell_type": "markdown",
   "id": "adolescent-street",
   "metadata": {
    "id": "adolescent-street"
   },
   "source": [
    "**3.2.1) Train metaclassifier (in this case, once again, it is just an ML model) on original dataset's features. And report score on test.**"
   ]
  },
  {
   "cell_type": "code",
   "execution_count": null,
   "id": "lesbian-fields",
   "metadata": {
    "id": "lesbian-fields"
   },
   "outputs": [],
   "source": [
    "### BEGIN Solution (do not delete this comment)\n",
    "\n",
    "### END Solution (do not delete this comment)"
   ]
  },
  {
   "cell_type": "markdown",
   "id": "horizontal-wallace",
   "metadata": {
    "id": "horizontal-wallace"
   },
   "source": [
    "**3.2.2) Train the metaclassifier on the base models using $n$-fold cross-validation, as described above. Report the training score of the meta-classifier on the $ n $-th fold. Retrain the base models on the whole training set. Report the test score (accuracy) of the meta-classifier in this case.**"
   ]
  },
  {
   "cell_type": "code",
   "execution_count": null,
   "id": "renewable-concrete",
   "metadata": {
    "id": "renewable-concrete"
   },
   "outputs": [],
   "source": [
    "### BEGIN Solution (do not delete this comment)\n",
    "\n",
    "### END Solution (do not delete this comment)"
   ]
  },
  {
   "cell_type": "markdown",
   "id": "printable-premium",
   "metadata": {
    "id": "printable-premium"
   },
   "source": [
    "**3.2.3) Report score(accuracy) on test.**"
   ]
  },
  {
   "cell_type": "code",
   "execution_count": null,
   "id": "auburn-easter",
   "metadata": {
    "id": "auburn-easter"
   },
   "outputs": [],
   "source": [
    "### BEGIN Solution (do not delete this comment)\n",
    "\n",
    "### END Solution (do not delete this comment)"
   ]
  },
  {
   "cell_type": "markdown",
   "id": "premier-scout",
   "metadata": {
    "id": "premier-scout"
   },
   "source": [
    "**3.2.4) Does stacking helped to gain a better score?**"
   ]
  },
  {
   "cell_type": "markdown",
   "id": "vSV5hJFR7RS-",
   "metadata": {
    "id": "vSV5hJFR7RS-"
   },
   "source": [
    "**Your text answer (do not delete this comment)**:\n",
    "\n",
    "\\<write your answer\\>"
   ]
  },
  {
   "cell_type": "code",
   "execution_count": null,
   "id": "offensive-parts",
   "metadata": {
    "id": "offensive-parts"
   },
   "outputs": [],
   "source": []
  }
 ],
 "metadata": {
  "colab": {
   "name": "ML_HW_2.ipynb",
   "provenance": []
  },
  "kernelspec": {
   "display_name": "Python 3",
   "language": "python",
   "name": "python3"
  },
  "language_info": {
   "codemirror_mode": {
    "name": "ipython",
    "version": 3
   },
   "file_extension": ".py",
   "mimetype": "text/x-python",
   "name": "python",
   "nbconvert_exporter": "python",
   "pygments_lexer": "ipython3",
   "version": "3.8.10"
  }
 },
 "nbformat": 4,
 "nbformat_minor": 5
}
